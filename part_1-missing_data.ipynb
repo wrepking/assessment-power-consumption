{
 "cells": [
  {
   "cell_type": "code",
   "execution_count": 23,
   "metadata": {},
   "outputs": [],
   "source": [
    "import pandas as pd\n",
    "import numpy as np\n",
    "import datetime"
   ]
  },
  {
   "cell_type": "raw",
   "metadata": {},
   "source": [
    "Load the data into a dataframe and do some exploration."
   ]
  },
  {
   "cell_type": "code",
   "execution_count": 24,
   "metadata": {},
   "outputs": [
    {
     "name": "stdout",
     "output_type": "stream",
     "text": [
      "<class 'pandas.core.frame.DataFrame'>\n",
      "RangeIndex: 2075259 entries, 0 to 2075258\n",
      "Data columns (total 9 columns):\n",
      "Date                     object\n",
      "Time                     object\n",
      "Global_active_power      object\n",
      "Global_reactive_power    object\n",
      "Voltage                  object\n",
      "Global_intensity         object\n",
      "Sub_metering_1           object\n",
      "Sub_metering_2           object\n",
      "Sub_metering_3           float64\n",
      "dtypes: float64(1), object(8)\n",
      "memory usage: 142.5+ MB\n",
      "None\n",
      "Date                         0\n",
      "Time                         0\n",
      "Global_active_power          0\n",
      "Global_reactive_power        0\n",
      "Voltage                      0\n",
      "Global_intensity             0\n",
      "Sub_metering_1               0\n",
      "Sub_metering_2               0\n",
      "Sub_metering_3           25979\n",
      "dtype: int64\n"
     ]
    }
   ],
   "source": [
    "pc = pd.read_csv(\"household_power_consumption.txt\", sep = \";\", low_memory = False)\n",
    "print(pc.info())\n",
    "##\n",
    "# Check null values\n",
    "##\n",
    "print(len(pc) - pc.count())\n",
    "## Only a very small percentage of Sub_metering_3 values are null."
   ]
  },
  {
   "cell_type": "raw",
   "metadata": {},
   "source": [
    "Investigate and deal with missing values in Sub_metering_3 field"
   ]
  },
  {
   "cell_type": "code",
   "execution_count": 25,
   "metadata": {
    "scrolled": false
   },
   "outputs": [
    {
     "name": "stdout",
     "output_type": "stream",
     "text": [
      "               Date      Time Global_active_power Global_reactive_power  \\\n",
      "6839     21/12/2006  11:23:00                   ?                     ?   \n",
      "6840     21/12/2006  11:24:00                   ?                     ?   \n",
      "19724    30/12/2006  10:08:00                   ?                     ?   \n",
      "19725    30/12/2006  10:09:00                   ?                     ?   \n",
      "41832     14/1/2007  18:36:00                   ?                     ?   \n",
      "61909     28/1/2007  17:13:00                   ?                     ?   \n",
      "98254     22/2/2007  22:58:00                   ?                     ?   \n",
      "98255     22/2/2007  22:59:00                   ?                     ?   \n",
      "142588    25/3/2007  17:52:00                   ?                     ?   \n",
      "190497    28/4/2007  00:21:00                   ?                     ?   \n",
      "190498    28/4/2007  00:22:00                   ?                     ?   \n",
      "190499    28/4/2007  00:23:00                   ?                     ?   \n",
      "190500    28/4/2007  00:24:00                   ?                     ?   \n",
      "190501    28/4/2007  00:25:00                   ?                     ?   \n",
      "190502    28/4/2007  00:26:00                   ?                     ?   \n",
      "190503    28/4/2007  00:27:00                   ?                     ?   \n",
      "190504    28/4/2007  00:28:00                   ?                     ?   \n",
      "190505    28/4/2007  00:29:00                   ?                     ?   \n",
      "190506    28/4/2007  00:30:00                   ?                     ?   \n",
      "190507    28/4/2007  00:31:00                   ?                     ?   \n",
      "190508    28/4/2007  00:32:00                   ?                     ?   \n",
      "190509    28/4/2007  00:33:00                   ?                     ?   \n",
      "190510    28/4/2007  00:34:00                   ?                     ?   \n",
      "190511    28/4/2007  00:35:00                   ?                     ?   \n",
      "190512    28/4/2007  00:36:00                   ?                     ?   \n",
      "190513    28/4/2007  00:37:00                   ?                     ?   \n",
      "190514    28/4/2007  00:38:00                   ?                     ?   \n",
      "190515    28/4/2007  00:39:00                   ?                     ?   \n",
      "190516    28/4/2007  00:40:00                   ?                     ?   \n",
      "190517    28/4/2007  00:41:00                   ?                     ?   \n",
      "...             ...       ...                 ...                   ...   \n",
      "1990160   28/9/2010  18:44:00                   ?                     ?   \n",
      "1990161   28/9/2010  18:45:00                   ?                     ?   \n",
      "1990162   28/9/2010  18:46:00                   ?                     ?   \n",
      "1990163   28/9/2010  18:47:00                   ?                     ?   \n",
      "1990164   28/9/2010  18:48:00                   ?                     ?   \n",
      "1990165   28/9/2010  18:49:00                   ?                     ?   \n",
      "1990166   28/9/2010  18:50:00                   ?                     ?   \n",
      "1990167   28/9/2010  18:51:00                   ?                     ?   \n",
      "1990168   28/9/2010  18:52:00                   ?                     ?   \n",
      "1990169   28/9/2010  18:53:00                   ?                     ?   \n",
      "1990170   28/9/2010  18:54:00                   ?                     ?   \n",
      "1990171   28/9/2010  18:55:00                   ?                     ?   \n",
      "1990172   28/9/2010  18:56:00                   ?                     ?   \n",
      "1990173   28/9/2010  18:57:00                   ?                     ?   \n",
      "1990174   28/9/2010  18:58:00                   ?                     ?   \n",
      "1990175   28/9/2010  18:59:00                   ?                     ?   \n",
      "1990176   28/9/2010  19:00:00                   ?                     ?   \n",
      "1990177   28/9/2010  19:01:00                   ?                     ?   \n",
      "1990178   28/9/2010  19:02:00                   ?                     ?   \n",
      "1990179   28/9/2010  19:03:00                   ?                     ?   \n",
      "1990180   28/9/2010  19:04:00                   ?                     ?   \n",
      "1990181   28/9/2010  19:05:00                   ?                     ?   \n",
      "1990182   28/9/2010  19:06:00                   ?                     ?   \n",
      "1990183   28/9/2010  19:07:00                   ?                     ?   \n",
      "1990184   28/9/2010  19:08:00                   ?                     ?   \n",
      "1990185   28/9/2010  19:09:00                   ?                     ?   \n",
      "1990186   28/9/2010  19:10:00                   ?                     ?   \n",
      "1990187   28/9/2010  19:11:00                   ?                     ?   \n",
      "1990188   28/9/2010  19:12:00                   ?                     ?   \n",
      "2027411  24/10/2010  15:35:00                   ?                     ?   \n",
      "\n",
      "        Voltage Global_intensity Sub_metering_1 Sub_metering_2  Sub_metering_3  \n",
      "6839          ?                ?              ?              ?             NaN  \n",
      "6840          ?                ?              ?              ?             NaN  \n",
      "19724         ?                ?              ?              ?             NaN  \n",
      "19725         ?                ?              ?              ?             NaN  \n",
      "41832         ?                ?              ?              ?             NaN  \n",
      "61909         ?                ?              ?              ?             NaN  \n",
      "98254         ?                ?              ?              ?             NaN  \n",
      "98255         ?                ?              ?              ?             NaN  \n",
      "142588        ?                ?              ?              ?             NaN  \n",
      "190497        ?                ?              ?              ?             NaN  \n",
      "190498        ?                ?              ?              ?             NaN  \n",
      "190499        ?                ?              ?              ?             NaN  \n",
      "190500        ?                ?              ?              ?             NaN  \n",
      "190501        ?                ?              ?              ?             NaN  \n",
      "190502        ?                ?              ?              ?             NaN  \n",
      "190503        ?                ?              ?              ?             NaN  \n",
      "190504        ?                ?              ?              ?             NaN  \n",
      "190505        ?                ?              ?              ?             NaN  \n",
      "190506        ?                ?              ?              ?             NaN  \n",
      "190507        ?                ?              ?              ?             NaN  \n",
      "190508        ?                ?              ?              ?             NaN  \n",
      "190509        ?                ?              ?              ?             NaN  \n",
      "190510        ?                ?              ?              ?             NaN  \n",
      "190511        ?                ?              ?              ?             NaN  \n",
      "190512        ?                ?              ?              ?             NaN  \n",
      "190513        ?                ?              ?              ?             NaN  \n",
      "190514        ?                ?              ?              ?             NaN  \n",
      "190515        ?                ?              ?              ?             NaN  \n",
      "190516        ?                ?              ?              ?             NaN  \n",
      "190517        ?                ?              ?              ?             NaN  \n",
      "...         ...              ...            ...            ...             ...  \n",
      "1990160       ?                ?              ?              ?             NaN  \n",
      "1990161       ?                ?              ?              ?             NaN  \n",
      "1990162       ?                ?              ?              ?             NaN  \n",
      "1990163       ?                ?              ?              ?             NaN  \n",
      "1990164       ?                ?              ?              ?             NaN  \n",
      "1990165       ?                ?              ?              ?             NaN  \n",
      "1990166       ?                ?              ?              ?             NaN  \n",
      "1990167       ?                ?              ?              ?             NaN  \n",
      "1990168       ?                ?              ?              ?             NaN  \n",
      "1990169       ?                ?              ?              ?             NaN  \n",
      "1990170       ?                ?              ?              ?             NaN  \n",
      "1990171       ?                ?              ?              ?             NaN  \n",
      "1990172       ?                ?              ?              ?             NaN  \n",
      "1990173       ?                ?              ?              ?             NaN  \n",
      "1990174       ?                ?              ?              ?             NaN  \n",
      "1990175       ?                ?              ?              ?             NaN  \n",
      "1990176       ?                ?              ?              ?             NaN  \n",
      "1990177       ?                ?              ?              ?             NaN  \n",
      "1990178       ?                ?              ?              ?             NaN  \n",
      "1990179       ?                ?              ?              ?             NaN  \n",
      "1990180       ?                ?              ?              ?             NaN  \n",
      "1990181       ?                ?              ?              ?             NaN  \n",
      "1990182       ?                ?              ?              ?             NaN  \n",
      "1990183       ?                ?              ?              ?             NaN  \n",
      "1990184       ?                ?              ?              ?             NaN  \n",
      "1990185       ?                ?              ?              ?             NaN  \n",
      "1990186       ?                ?              ?              ?             NaN  \n",
      "1990187       ?                ?              ?              ?             NaN  \n",
      "1990188       ?                ?              ?              ?             NaN  \n",
      "2027411       ?                ?              ?              ?             NaN  \n",
      "\n",
      "[25979 rows x 9 columns]\n"
     ]
    }
   ],
   "source": [
    "print(pc[pc['Sub_metering_3'].isna()])\n",
    "# That's sure interesting. It looks like we have a lot more \n",
    "# missing values than expected. There are ? marks in other fields\n",
    "# rather than nan's. Many of the times are adjacent as well."
   ]
  },
  {
   "cell_type": "raw",
   "metadata": {},
   "source": [
    "Investigate non-numeric values in data"
   ]
  },
  {
   "cell_type": "code",
   "execution_count": 26,
   "metadata": {},
   "outputs": [
    {
     "name": "stdout",
     "output_type": "stream",
     "text": [
      "{'?'}\n"
     ]
    }
   ],
   "source": [
    "def check_non_float(a):\n",
    "    try:\n",
    "        float(a)\n",
    "        return(False)\n",
    "    except Exception as e:\n",
    "        return(True)\n",
    "    return(True)\n",
    "\n",
    "nn_index = pc.loc[ :, (pc.columns != 'Date') & (pc.columns != 'Time')].applymap(check_non_float)\n",
    "\n",
    "nn_set = []\n",
    "for column in nn_index.columns:\n",
    "    nn_set += list(pc[column][nn_index[column]])\n",
    "\n",
    "nn_set = set(nn_set)\n",
    "print(nn_set)\n",
    "\n",
    "# Wow, that's wonderful. It looks like the only non-float character \n",
    "# is a question mark. For simplicity, I will replace all nans with a\n",
    "# question mark.\n",
    "\n",
    "pc = pc.fillna('?')\n",
    "\n",
    "pc['q_count'] = pc.apply(lambda x: sum([1 if a == '?' else 0 for a in x]), axis = 1)\n"
   ]
  },
  {
   "cell_type": "raw",
   "metadata": {},
   "source": [
    "Continue investigating non-numeric data:"
   ]
  },
  {
   "cell_type": "code",
   "execution_count": 27,
   "metadata": {},
   "outputs": [
    {
     "name": "stdout",
     "output_type": "stream",
     "text": [
      "25979\n",
      "{0, 7}\n"
     ]
    }
   ],
   "source": [
    "print(sum([1 if a != 0 else 0 for a in pc['q_count']]))\n",
    "\n",
    "# List unique numbers non-numeric characters by row:\n",
    "print(set(list(pc['q_count'])))\n",
    "\n",
    "# Wow, that is super interesting. It seems that all rows that have\n",
    "# any missing data are missing all data.\n",
    "\n",
    "# Now I need to check how close in proximity to time these missing values are\n",
    "\n",
    "timestamps = pc.apply(lambda x: datetime.datetime.strptime(x['Date'].split('/')[2] + '/' + x['Date'].split('/')[1] + '/' + x['Date'].split('/')[0] + ' ' + x['Time'], \"%Y/%m/%d %H:%M:%S\"), axis = 1)\n",
    "pc['timestamp'] = timestamps\n",
    "\n"
   ]
  },
  {
   "cell_type": "code",
   "execution_count": 51,
   "metadata": {},
   "outputs": [
    {
     "name": "stdout",
     "output_type": "stream",
     "text": [
      "True\n",
      "2075259\n",
      "2075258.0\n",
      "{0.0}\n"
     ]
    }
   ],
   "source": [
    "# Check to see if times are already sorted:\n",
    "\n",
    "print(''.join([str(a) for a in pc.index.values]) == ''.join([str(a) for a in pc.sort_values(by = ['timestamp']).index.values]))\n",
    "\n",
    "# Great! The dataframe is already sorted by time.\n",
    "\n",
    "# Now, let's check if there is exactly one row per minute.\n",
    "\n",
    "time_diff = max(pc['timestamp']) - min(pc['timestamp'])\n",
    "print(len(set(pc['timestamp'])))\n",
    "\n",
    "# Timestamps are all unique.\n",
    "\n",
    "print(time_diff.days * 24 * 60 + time_diff.seconds / 60)\n",
    "\n",
    "# There are the same number of minutes as rows.\n",
    "\n",
    "print(set([(a-datetime.datetime(1970,1,1)).total_seconds() % 60 for a in pc['timestamp']]))\n",
    "\n",
    "# Every row represents a whole minute.\n",
    "\n",
    "# Haha! It looks like there is exactly one row per minute.\n",
    "# Each minute is consecutive\n",
    "# Time differences will be easy to calculate.\n",
    "\n"
   ]
  },
  {
   "cell_type": "raw",
   "metadata": {},
   "source": [
    "See how many intervals of data loss are present:"
   ]
  },
  {
   "cell_type": "code",
   "execution_count": 76,
   "metadata": {},
   "outputs": [
    {
     "name": "stdout",
     "output_type": "stream",
     "text": [
      "There were 33 intervals of data loss.\n",
      "The longest duration between missing intervals lasted 54.66 days.\n",
      "The maximum length of continuous data loss lasted 120.42 hours.\n",
      "The minimum length of continuous data loss lasted 1 minute.\n",
      "The median length of continuous data loss lasted 3 minutes.\n"
     ]
    }
   ],
   "source": [
    "pc['consecutive_minutes'] = list(range(len(pc)))\n",
    "\n",
    "missing_pc = pc[pc['q_count'] > 0]\n",
    "time_diffs = list([str(int(a)) for a in missing_pc['cumulative_minutes'].diff()[1:]])\n",
    "data_loss_intervals = [len(a) for a in ''.join([a if a == '1' else '0' for a in time_diffs]).split('0') if a != '']\n",
    "print('There were ' + str(len(data_loss_intervals)) + ' intervals of data loss.')\n",
    "print('The longest duration between missing intervals lasted ' + str(round(int(max(time_diffs)) / 60 / 24,2)) + ' days.')\n",
    "print('The maximum length of continuous data loss lasted ' + str(round(max(data_loss_intervals) / 60, 2)) + ' hours.')\n",
    "print('The minimum length of continuous data loss lasted ' + str(min(data_loss_intervals)) + ' minute.')\n",
    "print('The median length of continuous data loss lasted ' + str(int(np.median(data_loss_intervals))) + ' minutes.')\n",
    "\n"
   ]
  },
  {
   "cell_type": "raw",
   "metadata": {},
   "source": [
    "Justifications for removing all rows with missing data:\n",
    "\n",
    "1. Every row that is missing any data is missing all its data.\n",
    "   Therefore, any row that is missing data provides no insight\n",
    "   when building a model.\n",
    "\n",
    "2. Only a very small percentage of all rows are missing data.\n",
    "   Therefore, deleting all rows will not significantly impact\n",
    "   building models.\n",
    "\n",
    "3. Imputing values for missing data--for instance, by using the\n",
    "   previous non-empty value in the column--may actually result in\n",
    "   less reliable models since some rows will essentially be duplicated\n",
    "   with no added information from non-missing data in the row.\n",
    "   \n",
    "In this case, it makes the most sense to just remove all rows that\n",
    "are missing data. Normally, when bits and pieces are missing from\n",
    "many different rows, the better strategy is to impute the missing\n",
    "data, perhaps by using the most recent non-missing value. However,\n",
    "here, for the reasons above, the better option is to remove all rows\n",
    "with missing data."
   ]
  },
  {
   "cell_type": "raw",
   "metadata": {},
   "source": [
    "Delete rows with missing data, verify, and write to csv."
   ]
  },
  {
   "cell_type": "code",
   "execution_count": 82,
   "metadata": {},
   "outputs": [
    {
     "name": "stdout",
     "output_type": "stream",
     "text": [
      "2075259\n",
      "2049280\n",
      "Date                     0\n",
      "Time                     0\n",
      "Global_active_power      0\n",
      "Global_reactive_power    0\n",
      "Voltage                  0\n",
      "Global_intensity         0\n",
      "Sub_metering_1           0\n",
      "Sub_metering_2           0\n",
      "Sub_metering_3           0\n",
      "q_count                  0\n",
      "timestamp                0\n",
      "cumulative_minutes       0\n",
      "consecutive_minutes      0\n",
      "dtype: int64\n",
      "['Date' 'Time' 'Global_active_power' 'Global_reactive_power' 'Voltage'\n",
      " 'Global_intensity' 'Sub_metering_1' 'Sub_metering_2' 'Sub_metering_3'\n",
      " 'q_count' 'timestamp' 'cumulative_minutes' 'consecutive_minutes']\n"
     ]
    }
   ],
   "source": [
    "pc_rmna = pc[pc['Global_active_power'] != '?']\n",
    "print(len(pc))\n",
    "print(len(pc_rmna))\n",
    "print(len(pc_rmna) - pc_rmna.count())\n",
    "\n",
    "# There are no longer any missing values. Save to csv.\n",
    "print(pc_rmna.columns.values)\n",
    "pc_rmna[['Date', 'Time', 'Global_active_power', 'Global_reactive_power', 'Voltage',\n",
    " 'Global_intensity', 'Sub_metering_1', 'Sub_metering_2', 'Sub_metering_3']].to_csv('pc_rmna.csv', index = False)"
   ]
  }
 ],
 "metadata": {
  "kernelspec": {
   "display_name": "Python 3",
   "language": "python",
   "name": "python3"
  },
  "language_info": {
   "codemirror_mode": {
    "name": "ipython",
    "version": 3
   },
   "file_extension": ".py",
   "mimetype": "text/x-python",
   "name": "python",
   "nbconvert_exporter": "python",
   "pygments_lexer": "ipython3",
   "version": "3.7.1"
  }
 },
 "nbformat": 4,
 "nbformat_minor": 2
}
